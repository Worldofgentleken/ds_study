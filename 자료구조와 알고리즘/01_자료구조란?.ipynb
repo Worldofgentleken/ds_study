{
 "cells": [
  {
   "cell_type": "markdown",
   "metadata": {},
   "source": [
    "# 1. 자료구조란?\n",
    "- 여러 개의 데이터가 묶여있는 자료형을 컨테이너 자료형이라고 하고, 이러한 컨테이너 자료형의 데이터 구조를 자료구조라고 한다."
   ]
  },
  {
   "cell_type": "markdown",
   "metadata": {},
   "source": [
    "### 자료구조\n",
    "- 자료구조는 각각의 컨테이너 자료형에 따라서 차이가 있으며, 파이썬의 대표적인 컨테이너 자료형으로는 리스트, 튜플, 딕셔너리, 세트가 있다.\n",
    "- 자료 구조는 데이터를 효율적으로 접근하고 수정할 수 있도록 조직화, 관리, 저장하기 위한 방법이다. 데이터를 표현하고 조작하는 데 필요한 것으로써 삽입, 수정, 삭제, 검색, 정렬, 병합 및 순회와 같은 기본적인 연산을 지원한다."
   ]
  },
  {
   "cell_type": "markdown",
   "metadata": {},
   "source": [
    "### 추상 자료형\n",
    "- 추상 자료형은 데이터의 유형과 그 데이터를 조작할 수 있는 연산을 정의하지만, 이러한 데이터가 실제로 어떻게 구현되는지는 보여주지 않는다. ADT는 데이터의 논리적 구조를 제공하며, 구현 세부 사항은 숨긴다. 정보 은닉과 모듈성의 핵심 개념이다."
   ]
  },
  {
   "cell_type": "markdown",
   "metadata": {},
   "source": [
    "### 자료 구조의 분류\n",
    "- 선형 자료 구조: 데이터를 일렬로 나열한 자료 구조다. 예를 들면, 배열(Array), 연결 리스트(Linked List), 스택(Stack), 큐(Queue)가 있다.\n",
    "- 비선형 자료 구조: 데이터를 순서에 관계없이 계층 구조나 그래프 구조로 연결하는 자료 구조다. 예를 들면, 트리(Tree), 그래프(Graph)가 있다."
   ]
  },
  {
   "cell_type": "markdown",
   "metadata": {},
   "source": [
    "# 2. 파이썬은 리스트가 배열(array)을 대신한다.\n",
    "### 배열의 특징\n",
    "> 배열은 같은 자료형을 연속한 메모리에 저장하므로, 각 자료형이 차지하는 메모리 공간만큼 더하는 계산을 통해 임의 원소에 쉽게 접근할 수 있다. 배열의 특징은 다음과 같다.\n",
    "- 임의 접근 가능 : 배열의 인덱스를 통해 어떤 원소든 즉시 접근할 수 있다.\n",
    "- 수정 시 비효율성 : 원소의 추가나 삭제에는 전체 구조를 변경해야 하므로 시간이 소요된다.\n",
    "- 다양한 용도 : 배열은 스택, 큐, 힙, 해시테이블, 행렬 등의 기본 구조로 활용된다.\n",
    "- 정렬 알고리즘 구현 : 정렬 알고리즘을 구현하는 데 배열이 자주 사용 된다."
   ]
  },
  {
   "cell_type": "markdown",
   "metadata": {},
   "source": [
    "### 파이썬의 리스트는 동적 배열이다.\n",
    "> 파이썬에서는 리스트를 동적 배열로 사용할 수 있다.\n",
    "- 연속한 메모리에 객체(objects)의 주소를 저장한다.\n",
    "- 같은 자료형뿐만 아니라, 다양한 자료(객체)를 저장할 수 있다.\n",
    "- 배열처럼 인덱스로 각 객체(자료)에 쉽게 접근할 수 있고, 슬라이싱 할 수 있다."
   ]
  },
  {
   "cell_type": "markdown",
   "metadata": {},
   "source": [
    "### 리스트와 튜플의 차이점\n",
    "> 리스트와 비슷한 자료 구조에 튜플이 있다.\n",
    "#### 리스트의 특징\n",
    "- 동적 배열 : 크기와 원소를 자유롭게 변경할 수 있다.\n",
    "- 다양한 자료형 지원 : 서로 다른 다료형의 데이터를 하나의 리스트에 저장할 수 있다.\n",
    "- 인덱싱 및 슬라이싱 : 배열과 유사하게, 리스트에서도 인덱싱과 슬라이싱을 통해 데이터에 접근할 수 있다.\n",
    "#### 튜플의 특징\n",
    "- 정적 배열 : 한 번 생성되면 그 크기와 원소를 변경할 수 없다.\n",
    "- 불변성 : 튜플은 불변 객체이므로, 내용이 변경될 위험이 없는 데이터를 저장하는데 적합하다."
   ]
  },
  {
   "cell_type": "markdown",
   "metadata": {},
   "source": [
    "##### 예제 1. 정수 배열에서 가장 큰 두 수를 찾기\n",
    "> 문제 : 정수로 이루어진 배열이 주어질 떄, 가장 큰 두수를 찾아 [가장 큰 값, 둘째로 큰 값] 을 반환하는 함수를 완성하라\n",
    "> - 입력 : [3, -1, 5, 0, 7, 4, 9, 1], 출력 : [9, 7]\n",
    "> - 입력 : [7], 출력: [7]"
   ]
  },
  {
   "cell_type": "code",
   "execution_count": 8,
   "metadata": {},
   "outputs": [],
   "source": [
    "def two_max_num(li):\n",
    "    if len(li) < 2:  # 리스트의 길이가 2보다 작으면 그대로 반환\n",
    "        return li\n",
    "    \n",
    "    # 처음 두 요소를 max1과 max2로 설정\n",
    "    max1, max2 = li[:2]\n",
    "    \n",
    "    # max1이 더 크게 설정되도록 조정\n",
    "    if max2 > max1:\n",
    "        max1, max2 = max2, max1\n",
    "    \n",
    "    # 세 번째 요소부터 끝까지 순회\n",
    "    for n in li[2:]:\n",
    "        if n > max1:  # 현재 요소가 max1보다 크면\n",
    "            max1, max2 = n, max1  # max1을 갱신하고 이전 max1을 max2로 설정\n",
    "        elif n > max2:  # 현재 요소가 max2보다 크면\n",
    "            max2 = n  # max2를 갱신\n",
    "    \n",
    "    return [max1, max2]  # 최종적으로 max1과 max2를 반환\n"
   ]
  },
  {
   "cell_type": "code",
   "execution_count": 9,
   "metadata": {},
   "outputs": [
    {
     "name": "stdout",
     "output_type": "stream",
     "text": [
      "[3, -1, 5, 0, 7, 4, 9, 1]에서 가장 큰 두 값 : [9, 7]\n",
      "[7]에서 가장 큰 두 값 : [7]\n"
     ]
    }
   ],
   "source": [
    "arr = [[3, -1, 5, 0, 7, 4, 9, 1], [7]]\n",
    "for a in arr:\n",
    "    print(f\"{a}에서 가장 큰 두 값 : {two_max_num(a)}\")"
   ]
  },
  {
   "cell_type": "markdown",
   "metadata": {},
   "source": [
    "#### 예제 2. 회문(Palindromes) 찾기\n",
    "> 문제 : 주어진 문자열이 회문이면 True, 회문이 아니면 False를 반환하라.\n",
    "> - 입력: madam, 출력: True\n",
    "> - 입력: tomato, 출력: False"
   ]
  },
  {
   "cell_type": "code",
   "execution_count": 13,
   "metadata": {},
   "outputs": [
    {
     "name": "stdout",
     "output_type": "stream",
     "text": [
      "True\n"
     ]
    }
   ],
   "source": [
    "# 슬라이싱 이용하기\n",
    "word = input()\n",
    "if word == word[::-1]:\n",
    "    print(\"True\")\n",
    "else:\n",
    "    print(\"False\")"
   ]
  },
  {
   "cell_type": "code",
   "execution_count": 44,
   "metadata": {},
   "outputs": [
    {
     "name": "stdout",
     "output_type": "stream",
     "text": [
      "False\n"
     ]
    }
   ],
   "source": [
    "# 포인터 두 개를 이용하기\n",
    "# for 문 활용\n",
    "word = input()\n",
    "wordList1 = []\n",
    "wordList2 = []\n",
    "\n",
    "for i in range(len(word)):\n",
    "    wordList1.append(word[i])\n",
    "for j in range(len(word)):\n",
    "    wordList2.append(word[-j-1])\n",
    "\n",
    "if wordList1 == wordList2:\n",
    "    print(\"True\")\n",
    "else:\n",
    "    print(\"False\")"
   ]
  },
  {
   "cell_type": "code",
   "execution_count": 46,
   "metadata": {},
   "outputs": [],
   "source": [
    "# while문 활용\n",
    "def is_palindrome(word):\n",
    "\n",
    "    left: int = 0\n",
    "    right: int = len(word)-1\n",
    "    while left < right:\n",
    "        if word[left] != word[right]:\n",
    "            return False\n",
    "        left, right = left + 1, right - 1\n",
    "    return True"
   ]
  },
  {
   "cell_type": "code",
   "execution_count": 48,
   "metadata": {},
   "outputs": [
    {
     "name": "stdout",
     "output_type": "stream",
     "text": [
      "True\n"
     ]
    }
   ],
   "source": [
    "word = input()\n",
    "print(is_palindrome(word))"
   ]
  },
  {
   "cell_type": "markdown",
   "metadata": {},
   "source": [
    "#### 예제 3. 0과 1로 구성된 배열을 정렬하기\n",
    "> 문제 : 0과 1로 이루어진 배열이 있다. 배열 자체를 오름차순으로 정렬하라.\n",
    "> - 입력: [1, 0, 1, 1, 1, 1, 1, 0, 0, 0], 출력: [0, 0, 0, 0, 1, 1, 1, 1, 1, 1]\n",
    "> - 입력: [1, 1], 출력: [1, 1]\n"
   ]
  },
  {
   "cell_type": "code",
   "execution_count": 56,
   "metadata": {},
   "outputs": [],
   "source": [
    "arr = [[1, 0, 1, 1, 1, 1, 1, 0, 0, 0], [1, 1]]\n",
    "def arr_sorted(arr):\n",
    "    for i in range(len(arr)):\n",
    "        result = sorted(arr[i])\n",
    "        print(result)"
   ]
  },
  {
   "cell_type": "code",
   "execution_count": 57,
   "metadata": {},
   "outputs": [
    {
     "name": "stdout",
     "output_type": "stream",
     "text": [
      "[0, 0, 0, 0, 1, 1, 1, 1, 1, 1]\n",
      "[1, 1]\n"
     ]
    }
   ],
   "source": [
    "arr_sorted(arr)"
   ]
  },
  {
   "cell_type": "markdown",
   "metadata": {},
   "source": [
    "#### 예제 4. 제시된 합을 가진 부분 배열 찾기\n",
    "> 문제 : 정렬되지 않은 양의 정수로 이루어진 배열 A가 있다. 연속된 원소를 더한 값이 제시된 값 S와 같은 부분 배열을 찾아라. (인덱스 기준은 1이다.)\n",
    "> - 입력: arr = [1, 2, 3, 7, 5], s = 12, 출력: [2, 4]\n",
    ">   - 인덱스 2부터 4까지의 합: 2 + 3 + 7 = 12\n",
    "> - 입력: arr = [1, 2, 3, 4, 5, 6, 7, 8, 9, 10], s = 15, 출력: [1, 5]"
   ]
  },
  {
   "cell_type": "code",
   "execution_count": 58,
   "metadata": {},
   "outputs": [],
   "source": [
    "# 1번\n",
    "arr = [1, 2, 3, 7, 5]\n",
    "s = 12\n",
    "# 2번\n",
    "arr = [1, 2, 3, 4, 5, 6, 7, 8, 9, 10]\n",
    "s = 15"
   ]
  },
  {
   "cell_type": "code",
   "execution_count": 2,
   "metadata": {},
   "outputs": [],
   "source": [
    "def find_arr(arr, s):\n",
    "    # 배열 arr에서 연속된 부분 배열의 합이 s인 부분 배열의 시작과 끝 인덱스를 찾는 함수\n",
    "    \n",
    "    for i in range(len(arr)):\n",
    "        # 배열 arr의 각 원소에 대해 반복문 실행\n",
    "        total = 0\n",
    "        # 현재 부분 배열의 합을 저장할 변수 초기화\n",
    "        \n",
    "        for j in range(i, len(arr)):\n",
    "            # i부터 시작하여 배열 arr의 나머지 원소들에 대해 반복문 실행\n",
    "            total += arr[j]\n",
    "            # 현재 부분 배열의 합에 arr[j] 값을 추가\n",
    "            \n",
    "            if total == s:\n",
    "                # 현재 부분 배열의 합이 s와 같다면\n",
    "                return [i+1, j+1]\n",
    "                # 시작 인덱스와 끝 인덱스를 각각 1씩 더하여 반환 (1-based 인덱싱)\n",
    "                \n",
    "    return [-1]\n",
    "    # s와 같은 합을 가진 부분 배열이 없을 경우 -1을 반환\n"
   ]
  },
  {
   "cell_type": "code",
   "execution_count": 4,
   "metadata": {},
   "outputs": [
    {
     "name": "stdout",
     "output_type": "stream",
     "text": [
      "[2, 4]\n",
      "[1, 5]\n"
     ]
    }
   ],
   "source": [
    "sample1 = ([1, 2, 3, 7, 5], 12)\n",
    "sample2 = ([1, 2, 3, 4, 5, 6, 7, 8, 9, 10], 15)\n",
    "for arr, s in (sample1, sample2):\n",
    "    print(find_arr(arr, s))"
   ]
  },
  {
   "cell_type": "code",
   "execution_count": null,
   "metadata": {},
   "outputs": [],
   "source": []
  }
 ],
 "metadata": {
  "kernelspec": {
   "display_name": "Python 3",
   "language": "python",
   "name": "python3"
  },
  "language_info": {
   "codemirror_mode": {
    "name": "ipython",
    "version": 3
   },
   "file_extension": ".py",
   "mimetype": "text/x-python",
   "name": "python",
   "nbconvert_exporter": "python",
   "pygments_lexer": "ipython3",
   "version": "3.8.undefined"
  }
 },
 "nbformat": 4,
 "nbformat_minor": 2
}
