{
 "cells": [
  {
   "cell_type": "code",
   "execution_count": 79,
   "metadata": {},
   "outputs": [],
   "source": [
    "# 사용할 라이브러리 임포트\n",
    "import pandas as pd\n",
    "import matplotlib.pyplot as plt\n",
    "import seaborn as sns\n",
    "import numpy as np\n",
    "from sklearn.tree import DecisionTreeClassifier\n",
    "from sklearn.model_selection import train_test_split\n",
    "from sklearn.preprocessing import StandardScaler\n",
    "from sklearn.linear_model import LogisticRegression\n",
    "from sklearn.tree import plot_tree\n",
    "from sklearn.linear_model import LinearRegression\n"
   ]
  },
  {
   "cell_type": "code",
   "execution_count": 39,
   "metadata": {},
   "outputs": [
    {
     "data": {
      "text/html": [
       "<div>\n",
       "<style scoped>\n",
       "    .dataframe tbody tr th:only-of-type {\n",
       "        vertical-align: middle;\n",
       "    }\n",
       "\n",
       "    .dataframe tbody tr th {\n",
       "        vertical-align: top;\n",
       "    }\n",
       "\n",
       "    .dataframe thead th {\n",
       "        text-align: right;\n",
       "    }\n",
       "</style>\n",
       "<table border=\"1\" class=\"dataframe\">\n",
       "  <thead>\n",
       "    <tr style=\"text-align: right;\">\n",
       "      <th></th>\n",
       "      <th>mpg</th>\n",
       "      <th>cylinders</th>\n",
       "      <th>displacement</th>\n",
       "      <th>horsepower</th>\n",
       "      <th>weight</th>\n",
       "      <th>acceleration</th>\n",
       "      <th>model_year</th>\n",
       "      <th>origin</th>\n",
       "      <th>name</th>\n",
       "    </tr>\n",
       "  </thead>\n",
       "  <tbody>\n",
       "    <tr>\n",
       "      <th>0</th>\n",
       "      <td>18.0</td>\n",
       "      <td>8</td>\n",
       "      <td>307.0</td>\n",
       "      <td>130.0</td>\n",
       "      <td>3504</td>\n",
       "      <td>12.0</td>\n",
       "      <td>70</td>\n",
       "      <td>usa</td>\n",
       "      <td>chevrolet chevelle malibu</td>\n",
       "    </tr>\n",
       "    <tr>\n",
       "      <th>1</th>\n",
       "      <td>15.0</td>\n",
       "      <td>8</td>\n",
       "      <td>350.0</td>\n",
       "      <td>165.0</td>\n",
       "      <td>3693</td>\n",
       "      <td>11.5</td>\n",
       "      <td>70</td>\n",
       "      <td>usa</td>\n",
       "      <td>buick skylark 320</td>\n",
       "    </tr>\n",
       "    <tr>\n",
       "      <th>2</th>\n",
       "      <td>18.0</td>\n",
       "      <td>8</td>\n",
       "      <td>318.0</td>\n",
       "      <td>150.0</td>\n",
       "      <td>3436</td>\n",
       "      <td>11.0</td>\n",
       "      <td>70</td>\n",
       "      <td>usa</td>\n",
       "      <td>plymouth satellite</td>\n",
       "    </tr>\n",
       "    <tr>\n",
       "      <th>3</th>\n",
       "      <td>16.0</td>\n",
       "      <td>8</td>\n",
       "      <td>304.0</td>\n",
       "      <td>150.0</td>\n",
       "      <td>3433</td>\n",
       "      <td>12.0</td>\n",
       "      <td>70</td>\n",
       "      <td>usa</td>\n",
       "      <td>amc rebel sst</td>\n",
       "    </tr>\n",
       "    <tr>\n",
       "      <th>4</th>\n",
       "      <td>17.0</td>\n",
       "      <td>8</td>\n",
       "      <td>302.0</td>\n",
       "      <td>140.0</td>\n",
       "      <td>3449</td>\n",
       "      <td>10.5</td>\n",
       "      <td>70</td>\n",
       "      <td>usa</td>\n",
       "      <td>ford torino</td>\n",
       "    </tr>\n",
       "    <tr>\n",
       "      <th>...</th>\n",
       "      <td>...</td>\n",
       "      <td>...</td>\n",
       "      <td>...</td>\n",
       "      <td>...</td>\n",
       "      <td>...</td>\n",
       "      <td>...</td>\n",
       "      <td>...</td>\n",
       "      <td>...</td>\n",
       "      <td>...</td>\n",
       "    </tr>\n",
       "    <tr>\n",
       "      <th>393</th>\n",
       "      <td>27.0</td>\n",
       "      <td>4</td>\n",
       "      <td>140.0</td>\n",
       "      <td>86.0</td>\n",
       "      <td>2790</td>\n",
       "      <td>15.6</td>\n",
       "      <td>82</td>\n",
       "      <td>usa</td>\n",
       "      <td>ford mustang gl</td>\n",
       "    </tr>\n",
       "    <tr>\n",
       "      <th>394</th>\n",
       "      <td>44.0</td>\n",
       "      <td>4</td>\n",
       "      <td>97.0</td>\n",
       "      <td>52.0</td>\n",
       "      <td>2130</td>\n",
       "      <td>24.6</td>\n",
       "      <td>82</td>\n",
       "      <td>europe</td>\n",
       "      <td>vw pickup</td>\n",
       "    </tr>\n",
       "    <tr>\n",
       "      <th>395</th>\n",
       "      <td>32.0</td>\n",
       "      <td>4</td>\n",
       "      <td>135.0</td>\n",
       "      <td>84.0</td>\n",
       "      <td>2295</td>\n",
       "      <td>11.6</td>\n",
       "      <td>82</td>\n",
       "      <td>usa</td>\n",
       "      <td>dodge rampage</td>\n",
       "    </tr>\n",
       "    <tr>\n",
       "      <th>396</th>\n",
       "      <td>28.0</td>\n",
       "      <td>4</td>\n",
       "      <td>120.0</td>\n",
       "      <td>79.0</td>\n",
       "      <td>2625</td>\n",
       "      <td>18.6</td>\n",
       "      <td>82</td>\n",
       "      <td>usa</td>\n",
       "      <td>ford ranger</td>\n",
       "    </tr>\n",
       "    <tr>\n",
       "      <th>397</th>\n",
       "      <td>31.0</td>\n",
       "      <td>4</td>\n",
       "      <td>119.0</td>\n",
       "      <td>82.0</td>\n",
       "      <td>2720</td>\n",
       "      <td>19.4</td>\n",
       "      <td>82</td>\n",
       "      <td>usa</td>\n",
       "      <td>chevy s-10</td>\n",
       "    </tr>\n",
       "  </tbody>\n",
       "</table>\n",
       "<p>398 rows × 9 columns</p>\n",
       "</div>"
      ],
      "text/plain": [
       "      mpg  cylinders  displacement  horsepower  weight  acceleration  \\\n",
       "0    18.0          8         307.0       130.0    3504          12.0   \n",
       "1    15.0          8         350.0       165.0    3693          11.5   \n",
       "2    18.0          8         318.0       150.0    3436          11.0   \n",
       "3    16.0          8         304.0       150.0    3433          12.0   \n",
       "4    17.0          8         302.0       140.0    3449          10.5   \n",
       "..    ...        ...           ...         ...     ...           ...   \n",
       "393  27.0          4         140.0        86.0    2790          15.6   \n",
       "394  44.0          4          97.0        52.0    2130          24.6   \n",
       "395  32.0          4         135.0        84.0    2295          11.6   \n",
       "396  28.0          4         120.0        79.0    2625          18.6   \n",
       "397  31.0          4         119.0        82.0    2720          19.4   \n",
       "\n",
       "     model_year  origin                       name  \n",
       "0            70     usa  chevrolet chevelle malibu  \n",
       "1            70     usa          buick skylark 320  \n",
       "2            70     usa         plymouth satellite  \n",
       "3            70     usa              amc rebel sst  \n",
       "4            70     usa                ford torino  \n",
       "..          ...     ...                        ...  \n",
       "393          82     usa            ford mustang gl  \n",
       "394          82  europe                  vw pickup  \n",
       "395          82     usa              dodge rampage  \n",
       "396          82     usa                ford ranger  \n",
       "397          82     usa                 chevy s-10  \n",
       "\n",
       "[398 rows x 9 columns]"
      ]
     },
     "execution_count": 39,
     "metadata": {},
     "output_type": "execute_result"
    }
   ],
   "source": [
    "df = sns.load_dataset('mpg')\n",
    "df\n"
   ]
  },
  {
   "cell_type": "code",
   "execution_count": 40,
   "metadata": {},
   "outputs": [
    {
     "name": "stdout",
     "output_type": "stream",
     "text": [
      "<class 'pandas.core.frame.DataFrame'>\n",
      "RangeIndex: 398 entries, 0 to 397\n",
      "Data columns (total 9 columns):\n",
      " #   Column        Non-Null Count  Dtype  \n",
      "---  ------        --------------  -----  \n",
      " 0   mpg           398 non-null    float64\n",
      " 1   cylinders     398 non-null    int64  \n",
      " 2   displacement  398 non-null    float64\n",
      " 3   horsepower    392 non-null    float64\n",
      " 4   weight        398 non-null    int64  \n",
      " 5   acceleration  398 non-null    float64\n",
      " 6   model_year    398 non-null    int64  \n",
      " 7   origin        398 non-null    object \n",
      " 8   name          398 non-null    object \n",
      "dtypes: float64(4), int64(3), object(2)\n",
      "memory usage: 28.1+ KB\n"
     ]
    }
   ],
   "source": [
    "df.info()"
   ]
  },
  {
   "cell_type": "code",
   "execution_count": 41,
   "metadata": {},
   "outputs": [],
   "source": [
    "df['horsepower'] = df['horsepower'].fillna(df['horsepower'].mean())"
   ]
  },
  {
   "cell_type": "code",
   "execution_count": 42,
   "metadata": {},
   "outputs": [
    {
     "name": "stdout",
     "output_type": "stream",
     "text": [
      "<class 'pandas.core.frame.DataFrame'>\n",
      "RangeIndex: 398 entries, 0 to 397\n",
      "Data columns (total 9 columns):\n",
      " #   Column        Non-Null Count  Dtype  \n",
      "---  ------        --------------  -----  \n",
      " 0   mpg           398 non-null    float64\n",
      " 1   cylinders     398 non-null    int64  \n",
      " 2   displacement  398 non-null    float64\n",
      " 3   horsepower    398 non-null    float64\n",
      " 4   weight        398 non-null    int64  \n",
      " 5   acceleration  398 non-null    float64\n",
      " 6   model_year    398 non-null    int64  \n",
      " 7   origin        398 non-null    object \n",
      " 8   name          398 non-null    object \n",
      "dtypes: float64(4), int64(3), object(2)\n",
      "memory usage: 28.1+ KB\n"
     ]
    }
   ],
   "source": [
    "df.info()"
   ]
  },
  {
   "cell_type": "code",
   "execution_count": 43,
   "metadata": {},
   "outputs": [
    {
     "data": {
      "text/html": [
       "<div>\n",
       "<style scoped>\n",
       "    .dataframe tbody tr th:only-of-type {\n",
       "        vertical-align: middle;\n",
       "    }\n",
       "\n",
       "    .dataframe tbody tr th {\n",
       "        vertical-align: top;\n",
       "    }\n",
       "\n",
       "    .dataframe thead th {\n",
       "        text-align: right;\n",
       "    }\n",
       "</style>\n",
       "<table border=\"1\" class=\"dataframe\">\n",
       "  <thead>\n",
       "    <tr style=\"text-align: right;\">\n",
       "      <th></th>\n",
       "      <th>mpg</th>\n",
       "      <th>cylinders</th>\n",
       "      <th>displacement</th>\n",
       "      <th>horsepower</th>\n",
       "      <th>weight</th>\n",
       "      <th>acceleration</th>\n",
       "      <th>model_year</th>\n",
       "    </tr>\n",
       "  </thead>\n",
       "  <tbody>\n",
       "    <tr>\n",
       "      <th>count</th>\n",
       "      <td>398.000000</td>\n",
       "      <td>398.000000</td>\n",
       "      <td>398.000000</td>\n",
       "      <td>398.000000</td>\n",
       "      <td>398.000000</td>\n",
       "      <td>398.000000</td>\n",
       "      <td>398.000000</td>\n",
       "    </tr>\n",
       "    <tr>\n",
       "      <th>mean</th>\n",
       "      <td>23.514573</td>\n",
       "      <td>5.454774</td>\n",
       "      <td>193.425879</td>\n",
       "      <td>104.469388</td>\n",
       "      <td>2970.424623</td>\n",
       "      <td>15.568090</td>\n",
       "      <td>76.010050</td>\n",
       "    </tr>\n",
       "    <tr>\n",
       "      <th>std</th>\n",
       "      <td>7.815984</td>\n",
       "      <td>1.701004</td>\n",
       "      <td>104.269838</td>\n",
       "      <td>38.199187</td>\n",
       "      <td>846.841774</td>\n",
       "      <td>2.757689</td>\n",
       "      <td>3.697627</td>\n",
       "    </tr>\n",
       "    <tr>\n",
       "      <th>min</th>\n",
       "      <td>9.000000</td>\n",
       "      <td>3.000000</td>\n",
       "      <td>68.000000</td>\n",
       "      <td>46.000000</td>\n",
       "      <td>1613.000000</td>\n",
       "      <td>8.000000</td>\n",
       "      <td>70.000000</td>\n",
       "    </tr>\n",
       "    <tr>\n",
       "      <th>25%</th>\n",
       "      <td>17.500000</td>\n",
       "      <td>4.000000</td>\n",
       "      <td>104.250000</td>\n",
       "      <td>76.000000</td>\n",
       "      <td>2223.750000</td>\n",
       "      <td>13.825000</td>\n",
       "      <td>73.000000</td>\n",
       "    </tr>\n",
       "    <tr>\n",
       "      <th>50%</th>\n",
       "      <td>23.000000</td>\n",
       "      <td>4.000000</td>\n",
       "      <td>148.500000</td>\n",
       "      <td>95.000000</td>\n",
       "      <td>2803.500000</td>\n",
       "      <td>15.500000</td>\n",
       "      <td>76.000000</td>\n",
       "    </tr>\n",
       "    <tr>\n",
       "      <th>75%</th>\n",
       "      <td>29.000000</td>\n",
       "      <td>8.000000</td>\n",
       "      <td>262.000000</td>\n",
       "      <td>125.000000</td>\n",
       "      <td>3608.000000</td>\n",
       "      <td>17.175000</td>\n",
       "      <td>79.000000</td>\n",
       "    </tr>\n",
       "    <tr>\n",
       "      <th>max</th>\n",
       "      <td>46.600000</td>\n",
       "      <td>8.000000</td>\n",
       "      <td>455.000000</td>\n",
       "      <td>230.000000</td>\n",
       "      <td>5140.000000</td>\n",
       "      <td>24.800000</td>\n",
       "      <td>82.000000</td>\n",
       "    </tr>\n",
       "  </tbody>\n",
       "</table>\n",
       "</div>"
      ],
      "text/plain": [
       "              mpg   cylinders  displacement  horsepower       weight  \\\n",
       "count  398.000000  398.000000    398.000000  398.000000   398.000000   \n",
       "mean    23.514573    5.454774    193.425879  104.469388  2970.424623   \n",
       "std      7.815984    1.701004    104.269838   38.199187   846.841774   \n",
       "min      9.000000    3.000000     68.000000   46.000000  1613.000000   \n",
       "25%     17.500000    4.000000    104.250000   76.000000  2223.750000   \n",
       "50%     23.000000    4.000000    148.500000   95.000000  2803.500000   \n",
       "75%     29.000000    8.000000    262.000000  125.000000  3608.000000   \n",
       "max     46.600000    8.000000    455.000000  230.000000  5140.000000   \n",
       "\n",
       "       acceleration  model_year  \n",
       "count    398.000000  398.000000  \n",
       "mean      15.568090   76.010050  \n",
       "std        2.757689    3.697627  \n",
       "min        8.000000   70.000000  \n",
       "25%       13.825000   73.000000  \n",
       "50%       15.500000   76.000000  \n",
       "75%       17.175000   79.000000  \n",
       "max       24.800000   82.000000  "
      ]
     },
     "execution_count": 43,
     "metadata": {},
     "output_type": "execute_result"
    }
   ],
   "source": [
    "df.describe()"
   ]
  },
  {
   "cell_type": "code",
   "execution_count": 70,
   "metadata": {},
   "outputs": [],
   "source": [
    "X = df[['cylinders', 'displacement', 'horsepower', 'weight', 'acceleration', 'model_year']]\n",
    "y = df['mpg'].to_numpy()"
   ]
  },
  {
   "cell_type": "code",
   "execution_count": 71,
   "metadata": {},
   "outputs": [],
   "source": [
    "X_train, X_test, y_train, y_test = train_test_split(\n",
    "    X, y, test_size=0.2, random_state=42)"
   ]
  },
  {
   "cell_type": "code",
   "execution_count": 72,
   "metadata": {},
   "outputs": [
    {
     "data": {
      "text/plain": [
       "((318, 6), (80, 6))"
      ]
     },
     "execution_count": 72,
     "metadata": {},
     "output_type": "execute_result"
    }
   ],
   "source": [
    "X_train.shape, X_test.shape"
   ]
  },
  {
   "cell_type": "markdown",
   "metadata": {},
   "source": [
    "### 데이터 전처리"
   ]
  },
  {
   "cell_type": "code",
   "execution_count": 73,
   "metadata": {},
   "outputs": [],
   "source": [
    "ss = StandardScaler()\n",
    "ss.fit(X_train)\n",
    "\n",
    "X_train_scaled = ss.transform(X_train)\n",
    "X_test_scaled = ss.transform(X_test)"
   ]
  },
  {
   "cell_type": "code",
   "execution_count": 74,
   "metadata": {},
   "outputs": [
    {
     "data": {
      "text/plain": [
       "array([[ 1.52718818,  1.0901965 ,  1.26183446,  0.55282624, -1.31933367,\n",
       "        -1.6966673 ],\n",
       "       [-0.85051483, -0.92299623, -0.41351298, -0.99966729, -0.41318225,\n",
       "        -1.6966673 ],\n",
       "       [-0.85051483, -0.98134964, -0.95394763, -1.1247723 ,  0.92792185,\n",
       "         1.63897537],\n",
       "       ...,\n",
       "       [-0.85051483, -0.56315019, -0.22436085, -0.54094894, -0.30444408,\n",
       "         0.52709448],\n",
       "       [-0.85051483, -1.00080078, -1.11607803, -1.09498539,  0.60170734,\n",
       "         1.36100515],\n",
       "       [-0.85051483, -0.92299623, -1.54842576, -1.21413301,  1.94281144,\n",
       "        -0.86275663]])"
      ]
     },
     "execution_count": 74,
     "metadata": {},
     "output_type": "execute_result"
    }
   ],
   "source": [
    "X_train_scaled"
   ]
  },
  {
   "cell_type": "code",
   "execution_count": 75,
   "metadata": {},
   "outputs": [
    {
     "data": {
      "text/plain": [
       "array([[-0.85051483, -0.98134964, -1.35927363, -1.39881183,  0.63795339,\n",
       "        -0.02884597],\n",
       "       [-0.85051483, -0.69930815, -0.65670857, -0.40988656,  1.07290607,\n",
       "         1.63897537],\n",
       "       [ 0.33833667,  0.38995555, -0.08925218, -0.39916327, -0.9568731 ,\n",
       "        -1.41869708],\n",
       "       [ 1.52718818,  1.22635446,  1.26183446,  1.15690469, -0.88438099,\n",
       "        -0.02884597],\n",
       "       [ 1.52718818,  1.22635446,  1.26183446,  1.51077313, -0.41318225,\n",
       "        -0.86275663],\n",
       "       [-0.85051483, -0.92299623, -0.41351298, -1.03541158,  0.31173888,\n",
       "        -1.14072686],\n",
       "       [-0.85051483, -0.50479678, -0.30542605, -0.12393226,  0.27549283,\n",
       "         1.63897537],\n",
       "       [ 1.52718818,  2.41287384,  3.01824709,  2.10412829, -1.68179423,\n",
       "        -0.86275663],\n",
       "       [ 1.52718818,  0.66227147,  0.18096514,  1.29988184,  1.2178903 ,\n",
       "         0.24912426],\n",
       "       [ 0.33833667,  0.07873735,  0.03151842, -0.1120175 ,  0.49296917,\n",
       "        -0.58478641],\n",
       "       [ 1.52718818,  1.92659541,  2.34270377,  1.04967183, -2.58794565,\n",
       "        -1.6966673 ],\n",
       "       [-0.85051483, -0.98134964, -0.98096937, -1.19626087, -0.23195197,\n",
       "         1.63897537],\n",
       "       [-0.85051483, -0.98134964, -0.89990417, -1.20817563,  1.76158115,\n",
       "        -1.41869708],\n",
       "       [ 1.52718818,  1.0901965 ,  1.26183446,  1.09971383, -1.13810338,\n",
       "        -1.14072686],\n",
       "       [-0.85051483, -0.50479678, -0.7647955 , -0.50877909,  0.49296917,\n",
       "        -0.58478641],\n",
       "       [ 1.52718818,  1.85851643,  2.07248644,  2.36625306, -1.50056395,\n",
       "        -1.41869708],\n",
       "       [-0.85051483, -0.7771127 , -0.49457818, -0.46946037,  0.20300071,\n",
       "         1.63897537],\n",
       "       [ 0.33833667, -0.28110869,  0.58629114,  0.2037237 , -0.73939676,\n",
       "         0.52709448],\n",
       "       [ 1.52718818,  2.02385109,  2.07248644,  1.49051803, -1.64554818,\n",
       "         0.24912426],\n",
       "       [-0.85051483, -0.98134964, -0.95394763, -1.19030349,  0.71044551,\n",
       "         1.63897537],\n",
       "       [-0.85051483, -0.68958258, -0.73777377, -0.54571485,  0.85542973,\n",
       "        -1.14072686],\n",
       "       [ 0.33833667,  0.05928621, -0.22436085, -0.1620595 , -0.05072168,\n",
       "        -1.6966673 ],\n",
       "       [ 0.33833667,  0.38995555,  0.23500861, -0.15967655, -0.34069014,\n",
       "         1.63897537],\n",
       "       [-0.85051483, -0.91327066, -0.54862164, -1.06519849,  0.09426254,\n",
       "         0.24912426],\n",
       "       [ 1.52718818,  1.1193732 ,  0.7213998 ,  0.63742105, -1.31933367,\n",
       "        -1.6966673 ],\n",
       "       [-0.85051483, -0.92299623, -1.38629536, -0.99966729,  3.24766948,\n",
       "         1.63897537],\n",
       "       [-0.85051483, -0.91327066, -0.35946951, -0.838818  , -0.05072168,\n",
       "        -0.86275663],\n",
       "       [-0.85051483, -0.39781552, -0.41351298, -0.27286679,  0.1305086 ,\n",
       "         0.24912426],\n",
       "       [ 0.33833667,  0.64282033,  0.45118247,  0.52542228, -0.19570591,\n",
       "         0.52709448],\n",
       "       [ 1.52718818,  2.02385109,  1.72120392,  2.30787073, -1.13810338,\n",
       "        -0.86275663],\n",
       "       [-0.85051483, -0.50479678, -0.46755644, -0.21329298, -0.01447563,\n",
       "         1.63897537],\n",
       "       [-0.85051483, -0.84519168, -0.79181724, -1.17838873, -0.1232138 ,\n",
       "         1.63897537],\n",
       "       [ 1.52718818,  1.53757266,  0.58629114,  1.10924564,  0.63795339,\n",
       "         0.8050647 ],\n",
       "       [-0.85051483, -0.76738713, -0.22436085, -0.82332881, -0.05072168,\n",
       "        -1.14072686],\n",
       "       [-0.85051483, -1.02997749, -1.03501283, -1.13192115,  0.27549283,\n",
       "         1.08303492],\n",
       "       [ 1.52718818,  2.02385109,  3.42357308,  1.55962365, -2.22548508,\n",
       "        -0.86275663],\n",
       "       [ 0.33833667, -0.35891324,  0.09989995, -0.59218242, -0.59441253,\n",
       "        -0.86275663],\n",
       "       [ 1.52718818,  1.09992206,  1.12672579,  0.54329443, -0.88438099,\n",
       "         0.52709448],\n",
       "       [ 1.52718818,  1.22635446,  1.26183446,  1.82174843, -0.41318225,\n",
       "        -0.30681619],\n",
       "       [-0.85051483, -0.91327066, -0.54862164, -0.89362591,  0.31173888,\n",
       "        -0.58478641],\n",
       "       [ 0.33833667, -0.18385301,  0.31607381, -0.32052584, -0.99311916,\n",
       "         0.8050647 ],\n",
       "       [-0.85051483, -0.92299623, -1.1701215 , -1.35234426,  1.2178903 ,\n",
       "        -1.41869708],\n",
       "       [-0.85051483, -0.68958258,  0.23500861, -0.04291188, -0.41318225,\n",
       "        -1.14072686],\n",
       "       [ 1.52718818,  1.63482835,  3.01824709,  1.96115114, -0.59441253,\n",
       "        -1.6966673 ],\n",
       "       [-0.85051483, -0.69930815, -0.17031738, -0.55167223, -0.41318225,\n",
       "        -1.14072686],\n",
       "       [-0.85051483, -0.69930815, -0.41351298, -0.96392301, -0.41318225,\n",
       "         1.63897537],\n",
       "       [-0.85051483, -0.73821043, -0.7647955 , -0.86145605, -0.59441253,\n",
       "        -0.58478641],\n",
       "       [-0.85051483, -0.68958258,  0.31607381, -0.35507865, -0.77564282,\n",
       "        -0.30681619],\n",
       "       [-0.85051483, -0.85491725, -0.22436085, -0.70775562,  0.67419945,\n",
       "        -1.6966673 ],\n",
       "       [-0.85051483, -0.99107521, -0.87288244, -0.88886   ,  0.31173888,\n",
       "        -0.30681619],\n",
       "       [-0.85051483, -0.50479678, -0.8458607 , -0.6684369 ,  1.2178903 ,\n",
       "        -1.41869708],\n",
       "       [-0.85051483, -1.02997749, -1.03501283, -1.18434611, -0.15945985,\n",
       "         0.8050647 ],\n",
       "       [-0.85051483, -0.82574054, -0.8458607 , -0.8090311 ,  0.49296917,\n",
       "         1.08303492],\n",
       "       [ 1.52718818,  2.02385109,  2.34270377,  1.73119623, -1.13810338,\n",
       "        -1.14072686],\n",
       "       [ 0.33833667, -0.18385301,  0.18096514, -0.29073893, -1.10185733,\n",
       "         1.36100515],\n",
       "       [ 1.52718818,  2.02385109,  1.93737778,  1.78123823, -1.50056395,\n",
       "        -1.41869708],\n",
       "       [ 1.52718818,  1.63482835,  1.26183446,  1.15690469, -0.9568731 ,\n",
       "         0.8050647 ],\n",
       "       [-0.85051483, -0.56315019, -0.35946951, -0.3074196 , -0.05072168,\n",
       "         1.08303492],\n",
       "       [-0.85051483, -0.50479678, -0.35946951, -0.84000948, -0.05072168,\n",
       "        -1.41869708],\n",
       "       [ 0.33833667,  0.32187657, -0.22436085,  0.35146675,  0.1305086 ,\n",
       "        -0.30681619],\n",
       "       [ 1.52718818,  1.53757266,  2.07248644,  0.82805725, -1.68179423,\n",
       "        -0.86275663],\n",
       "       [-0.85051483, -0.98134964, -1.35927363, -1.39881183,  0.67419945,\n",
       "        -0.30681619],\n",
       "       [-0.85051483, -0.50479678, -0.54862164, -0.39320589,  0.49296917,\n",
       "        -0.30681619],\n",
       "       [-0.85051483, -0.69930815, -0.44053471,  0.01189603,  1.39912058,\n",
       "        -1.14072686],\n",
       "       [ 0.33833667,  0.05928621, -0.22436085, -0.07746469,  0.1305086 ,\n",
       "        -0.86275663],\n",
       "       [-0.85051483, -0.76738713, -0.22436085, -0.88290262, -0.59441253,\n",
       "        -1.41869708],\n",
       "       [-0.85051483, -0.39781552, -0.49457818, -0.13584702,  0.71044551,\n",
       "         0.52709448],\n",
       "       [-0.85051483, -0.91327066, -1.03501283, -1.10094277,  0.20300071,\n",
       "         1.36100515],\n",
       "       [-0.85051483, -0.91327066, -1.1701215 , -0.9591571 ,  2.34151806,\n",
       "        -0.02884597],\n",
       "       [ 1.52718818,  1.1193732 ,  0.7213998 ,  1.34515793, -0.59441253,\n",
       "        -1.14072686],\n",
       "       [-0.85051483, -0.84519168, -1.0890563 , -0.89839181, -0.26819802,\n",
       "         1.36100515],\n",
       "       [ 1.52718818,  1.0901965 ,  1.26183446,  1.53460265, -0.05072168,\n",
       "        -0.58478641],\n",
       "       [ 1.52718818,  2.30589259,  2.55887763,  1.63468666, -2.0442548 ,\n",
       "        -1.6966673 ],\n",
       "       [ 0.33833667,  0.64282033,  0.18096514, -0.00835907, -0.77564282,\n",
       "        -1.41869708],\n",
       "       [ 0.33833667, -0.10604846,  0.18096514, -0.02861416,  0.27549283,\n",
       "         1.63897537],\n",
       "       [ 1.52718818,  0.66227147,  0.18096514,  0.47180585, -0.05072168,\n",
       "         0.52709448],\n",
       "       [ 0.33833667,  0.56501578,  0.18096514,  0.65648467,  0.27549283,\n",
       "         0.24912426],\n",
       "       [-0.85051483, -0.7771127 , -0.41351298, -0.43371608,  1.43536664,\n",
       "         1.63897537],\n",
       "       [-0.85051483, -0.99107521, -0.89990417, -1.22962221, -0.59441253,\n",
       "        -0.30681619],\n",
       "       [ 1.52718818,  1.09992206,  0.7213998 ,  1.03775706, -0.08696774,\n",
       "         0.8050647 ]])"
      ]
     },
     "execution_count": 75,
     "metadata": {},
     "output_type": "execute_result"
    }
   ],
   "source": [
    "X_test_scaled"
   ]
  },
  {
   "cell_type": "code",
   "execution_count": 76,
   "metadata": {},
   "outputs": [
    {
     "data": {
      "text/plain": [
       "(array([33. , 28. , 19. , 13. , 14. , 27. , 24. , 13. , 17. , 21. , 15. ,\n",
       "        38. , 26. , 15. , 25. , 12. , 31. , 17. , 16. , 31. , 22. , 22. ,\n",
       "        22. , 33.5, 18. , 44. , 26. , 24.5, 18.1, 12. , 27. , 36. , 23. ,\n",
       "        24. , 37.2, 16. , 21. , 19.2, 16. , 29. , 26.8, 27. , 18. , 10. ,\n",
       "        23. , 36. , 26. , 25. , 25. , 25. , 22. , 34.1, 32.4, 13. , 23.5,\n",
       "        14. , 18.5, 29.8, 28. , 19. , 11. , 33. , 23. , 21. , 23. , 25. ,\n",
       "        23.8, 34.4, 24.5, 13. , 34.7, 14. , 15. , 18. , 25. , 19.9, 17.5,\n",
       "        28. , 29. , 17. ]),\n",
       " array([16. , 27. , 37. , 36.1, 23. , 14. , 32.8, 29.9, 20. , 12. , 15.5,\n",
       "        23.7, 24. , 36. , 19. , 38. , 29. , 21.5, 27.9, 14. , 36.1, 22. ,\n",
       "        18. , 17. , 18. , 14. , 26. , 13. , 33. , 37. , 32. , 28. , 19.2,\n",
       "        32. , 27.4, 20. , 26. , 20.6, 37.3, 16.2, 15. , 21. , 21. , 20.5,\n",
       "        21. , 25.4, 34.1, 27. , 36. , 31.6, 38.1, 32. , 40.8, 19. , 20. ,\n",
       "        22. , 17.5, 35.1, 30.5, 33.7, 19. , 14. , 15.5, 15. , 22.5, 29. ,\n",
       "        23. , 18. , 25.5, 24. , 14. , 16.5, 20.3, 26. , 15. , 33.8, 11. ,\n",
       "        28. , 19. , 30. , 27.2, 16.5, 29. , 20. , 15. , 17.5, 18. , 24. ,\n",
       "        20.2, 13. , 12. , 20. , 13. , 26. , 34.5, 18. , 18.5, 13. , 26. ,\n",
       "        18. , 31. , 24. , 11. , 19.4, 32.9, 31.5, 19.1, 24. , 20. , 28. ,\n",
       "        29. , 14. , 35. , 29.5, 23.6, 15.5, 20.6, 34.2, 25. , 36.4, 22.3,\n",
       "        19. , 19.8, 31. , 14. , 14. , 43.4, 26. , 33.5, 19. , 22. , 27.2,\n",
       "        32.7, 29. , 17.6, 23. , 34. , 17.6, 30.7, 21. , 38. , 16. , 15. ,\n",
       "        20. , 29. , 32. , 18. , 32. , 15. , 16. , 34. , 10. , 19. , 28.4,\n",
       "        15. , 32.3, 30. , 26.4, 30. , 19. , 13. , 32.2, 27. , 28. , 44.6,\n",
       "        18. , 39.4, 25.1, 16. , 43.1, 25. , 16.9, 13. , 20.2, 14. , 37. ,\n",
       "        13. , 21.5, 27. , 14. , 15. , 17. ,  9. , 23. , 26. , 34.3, 23.2,\n",
       "        17.5, 12. , 30. , 30.5, 25.4, 44.3, 23. , 14. , 29.8, 26.5, 20.2,\n",
       "        38. , 17. , 20.5, 32.4, 18. , 20.5, 25.8, 13. , 24. , 16. , 13. ,\n",
       "        21. , 19. , 25. , 27.5, 18. , 34.5, 11. , 32.1, 15.5, 18.6, 18.2,\n",
       "        15. , 27.2, 14. , 13. , 18. , 15. , 14. , 15. , 23.9, 24. , 16. ,\n",
       "        14. , 26.6, 46.6, 31.5, 29.5, 27. , 25.5, 20. , 16.5, 35.7, 24.2,\n",
       "        20.2, 26. , 22.4, 31.8, 30.9, 18.5, 16. , 13. , 30. , 14.5, 41.5,\n",
       "        20.8, 13. , 31. , 15. , 23. , 22. , 28. , 16. , 17.7, 13. , 26.6,\n",
       "        30. , 18.1, 22. , 14. , 24.3, 14. , 23.9, 13. , 30. , 36. , 16. ,\n",
       "        28.8, 36. , 31.3, 21.5, 35. , 28. , 18. , 15.5, 32. , 17.5, 20. ,\n",
       "        25. , 18. , 39. , 26. , 19.2, 24. , 28. , 17. , 21.6, 22. , 31.9,\n",
       "        39.1, 19.4, 33.5, 24. , 26. , 31. , 28.1, 18. , 27. , 13. , 40.9,\n",
       "        13. , 15. , 31. , 25. , 16. , 19. , 12. , 21.1, 37.7, 26. ]))"
      ]
     },
     "execution_count": 76,
     "metadata": {},
     "output_type": "execute_result"
    }
   ],
   "source": [
    "y_test, y_train"
   ]
  },
  {
   "cell_type": "code",
   "execution_count": 81,
   "metadata": {},
   "outputs": [
    {
     "data": {
      "text/html": [
       "<style>#sk-container-id-1 {color: black;}#sk-container-id-1 pre{padding: 0;}#sk-container-id-1 div.sk-toggleable {background-color: white;}#sk-container-id-1 label.sk-toggleable__label {cursor: pointer;display: block;width: 100%;margin-bottom: 0;padding: 0.3em;box-sizing: border-box;text-align: center;}#sk-container-id-1 label.sk-toggleable__label-arrow:before {content: \"▸\";float: left;margin-right: 0.25em;color: #696969;}#sk-container-id-1 label.sk-toggleable__label-arrow:hover:before {color: black;}#sk-container-id-1 div.sk-estimator:hover label.sk-toggleable__label-arrow:before {color: black;}#sk-container-id-1 div.sk-toggleable__content {max-height: 0;max-width: 0;overflow: hidden;text-align: left;background-color: #f0f8ff;}#sk-container-id-1 div.sk-toggleable__content pre {margin: 0.2em;color: black;border-radius: 0.25em;background-color: #f0f8ff;}#sk-container-id-1 input.sk-toggleable__control:checked~div.sk-toggleable__content {max-height: 200px;max-width: 100%;overflow: auto;}#sk-container-id-1 input.sk-toggleable__control:checked~label.sk-toggleable__label-arrow:before {content: \"▾\";}#sk-container-id-1 div.sk-estimator input.sk-toggleable__control:checked~label.sk-toggleable__label {background-color: #d4ebff;}#sk-container-id-1 div.sk-label input.sk-toggleable__control:checked~label.sk-toggleable__label {background-color: #d4ebff;}#sk-container-id-1 input.sk-hidden--visually {border: 0;clip: rect(1px 1px 1px 1px);clip: rect(1px, 1px, 1px, 1px);height: 1px;margin: -1px;overflow: hidden;padding: 0;position: absolute;width: 1px;}#sk-container-id-1 div.sk-estimator {font-family: monospace;background-color: #f0f8ff;border: 1px dotted black;border-radius: 0.25em;box-sizing: border-box;margin-bottom: 0.5em;}#sk-container-id-1 div.sk-estimator:hover {background-color: #d4ebff;}#sk-container-id-1 div.sk-parallel-item::after {content: \"\";width: 100%;border-bottom: 1px solid gray;flex-grow: 1;}#sk-container-id-1 div.sk-label:hover label.sk-toggleable__label {background-color: #d4ebff;}#sk-container-id-1 div.sk-serial::before {content: \"\";position: absolute;border-left: 1px solid gray;box-sizing: border-box;top: 0;bottom: 0;left: 50%;z-index: 0;}#sk-container-id-1 div.sk-serial {display: flex;flex-direction: column;align-items: center;background-color: white;padding-right: 0.2em;padding-left: 0.2em;position: relative;}#sk-container-id-1 div.sk-item {position: relative;z-index: 1;}#sk-container-id-1 div.sk-parallel {display: flex;align-items: stretch;justify-content: center;background-color: white;position: relative;}#sk-container-id-1 div.sk-item::before, #sk-container-id-1 div.sk-parallel-item::before {content: \"\";position: absolute;border-left: 1px solid gray;box-sizing: border-box;top: 0;bottom: 0;left: 50%;z-index: -1;}#sk-container-id-1 div.sk-parallel-item {display: flex;flex-direction: column;z-index: 1;position: relative;background-color: white;}#sk-container-id-1 div.sk-parallel-item:first-child::after {align-self: flex-end;width: 50%;}#sk-container-id-1 div.sk-parallel-item:last-child::after {align-self: flex-start;width: 50%;}#sk-container-id-1 div.sk-parallel-item:only-child::after {width: 0;}#sk-container-id-1 div.sk-dashed-wrapped {border: 1px dashed gray;margin: 0 0.4em 0.5em 0.4em;box-sizing: border-box;padding-bottom: 0.4em;background-color: white;}#sk-container-id-1 div.sk-label label {font-family: monospace;font-weight: bold;display: inline-block;line-height: 1.2em;}#sk-container-id-1 div.sk-label-container {text-align: center;}#sk-container-id-1 div.sk-container {/* jupyter's `normalize.less` sets `[hidden] { display: none; }` but bootstrap.min.css set `[hidden] { display: none !important; }` so we also need the `!important` here to be able to override the default hidden behavior on the sphinx rendered scikit-learn.org. See: https://github.com/scikit-learn/scikit-learn/issues/21755 */display: inline-block !important;position: relative;}#sk-container-id-1 div.sk-text-repr-fallback {display: none;}</style><div id=\"sk-container-id-1\" class=\"sk-top-container\"><div class=\"sk-text-repr-fallback\"><pre>LinearRegression()</pre><b>In a Jupyter environment, please rerun this cell to show the HTML representation or trust the notebook. <br />On GitHub, the HTML representation is unable to render, please try loading this page with nbviewer.org.</b></div><div class=\"sk-container\" hidden><div class=\"sk-item\"><div class=\"sk-estimator sk-toggleable\"><input class=\"sk-toggleable__control sk-hidden--visually\" id=\"sk-estimator-id-1\" type=\"checkbox\" checked><label for=\"sk-estimator-id-1\" class=\"sk-toggleable__label sk-toggleable__label-arrow\">LinearRegression</label><div class=\"sk-toggleable__content\"><pre>LinearRegression()</pre></div></div></div></div></div>"
      ],
      "text/plain": [
       "LinearRegression()"
      ]
     },
     "execution_count": 81,
     "metadata": {},
     "output_type": "execute_result"
    }
   ],
   "source": [
    "lr = LinearRegression()\n",
    "lr.fit(X_train, y_train)"
   ]
  },
  {
   "cell_type": "code",
   "execution_count": 83,
   "metadata": {},
   "outputs": [
    {
     "name": "stdout",
     "output_type": "stream",
     "text": [
      "[31.53109579 30.70849255 21.76226    17.00367581 12.6130019  26.21298858\n",
      " 28.91110402  9.203019   17.21958478 22.74890141 12.68127025 34.98788977\n",
      " 26.69305024 14.05845246 24.77721826  5.90349606 30.87237625 23.812746\n",
      " 15.88074362 35.1630653  23.44503249 19.69097766 29.32850815 30.33475799\n",
      " 15.09790363 34.56140773 25.77970744 25.76026735 22.17155643  7.92248019\n",
      " 29.35879131 34.94809283 20.00733969 24.92500913 33.10362116 12.27718714\n",
      " 24.47963851 22.19709231 12.37774229 26.9653782  27.64455572 27.40742955\n",
      " 20.29321008  7.75458288 23.2567278  33.67959269 26.58280382 24.46965565\n",
      " 22.78493184 27.69250537 23.46866786 32.51641698 31.29673875 10.59203038\n",
      " 29.0331764   9.37415973 19.459108   28.30596417 24.25237835 20.74590348\n",
      " 16.50177291 30.73792699 24.91739479 20.29843339 21.63449641 24.35609011\n",
      " 25.87130899 33.72516256 29.33902158 12.67787803 32.43029722 13.33055945\n",
      "  9.42921327 19.56240271 28.60182876 22.6343755  20.65938631 30.94091434\n",
      " 29.50369472 20.21097656]\n"
     ]
    }
   ],
   "source": [
    "print(lr.predict(X_test))"
   ]
  },
  {
   "cell_type": "code",
   "execution_count": 84,
   "metadata": {},
   "outputs": [
    {
     "name": "stdout",
     "output_type": "stream",
     "text": [
      "[ 0.06912753  0.00161762  0.00274372 -0.00704049  0.07985934  0.80115473] -18.677658874713345\n"
     ]
    }
   ],
   "source": [
    "print(lr.coef_, lr.intercept_)"
   ]
  },
  {
   "cell_type": "code",
   "execution_count": 87,
   "metadata": {},
   "outputs": [
    {
     "name": "stdout",
     "output_type": "stream",
     "text": [
      "0.8038965489657075\n",
      "0.8244069426990221\n"
     ]
    }
   ],
   "source": [
    "print(lr.score(X_train, y_train))\n",
    "print(lr.score(X_test, y_test))"
   ]
  },
  {
   "cell_type": "code",
   "execution_count": 88,
   "metadata": {},
   "outputs": [
    {
     "data": {
      "text/plain": [
       "(     cylinders  displacement  horsepower    weight  acceleration  model_year\n",
       " 3           64       92416.0     22500.0  11785489        144.00        4900\n",
       " 18          16        9409.0      7744.0   4536900        210.25        4900\n",
       " 376         16        8281.0      4624.0   4100625        331.24        6724\n",
       " 248         16        8281.0      3600.0   3240000        268.96        6084\n",
       " 177         16       13225.0      9025.0   7257636        225.00        5625\n",
       " ..         ...           ...         ...       ...           ...         ...\n",
       " 71           9        4900.0      9409.0   5428900        182.25        5184\n",
       " 106         64      122500.0     32400.0  20241001        156.25        5329\n",
       " 270         16       17956.0      9025.0   6325225        219.04        6084\n",
       " 348         16        7921.0      3844.0   4202500        299.29        6561\n",
       " 102         16        9409.0      2116.0   3802500        441.00        5329\n",
       " \n",
       " [318 rows x 6 columns],\n",
       "      cylinders  displacement  horsepower  weight  acceleration  model_year\n",
       " 3            8         304.0       150.0    3433          12.0          70\n",
       " 18           4          97.0        88.0    2130          14.5          70\n",
       " 376          4          91.0        68.0    2025          18.2          82\n",
       " 248          4          91.0        60.0    1800          16.4          78\n",
       " 177          4         115.0        95.0    2694          15.0          75\n",
       " ..         ...           ...         ...     ...           ...         ...\n",
       " 71           3          70.0        97.0    2330          13.5          72\n",
       " 106          8         350.0       180.0    4499          12.5          73\n",
       " 270          4         134.0        95.0    2515          14.8          78\n",
       " 348          4          89.0        62.0    2050          17.3          81\n",
       " 102          4          97.0        46.0    1950          21.0          73\n",
       " \n",
       " [318 rows x 6 columns])"
      ]
     },
     "execution_count": 88,
     "metadata": {},
     "output_type": "execute_result"
    }
   ],
   "source": [
    "X_train ** 2, X_train"
   ]
  },
  {
   "cell_type": "code",
   "execution_count": 77,
   "metadata": {},
   "outputs": [
    {
     "ename": "ValueError",
     "evalue": "Unknown label type: continuous. Maybe you are trying to fit a classifier, which expects discrete classes on a regression target with continuous values.",
     "output_type": "error",
     "traceback": [
      "\u001b[0;31m---------------------------------------------------------------------------\u001b[0m",
      "\u001b[0;31mValueError\u001b[0m                                Traceback (most recent call last)",
      "Cell \u001b[0;32mIn[77], line 2\u001b[0m\n\u001b[1;32m      1\u001b[0m dt \u001b[38;5;241m=\u001b[39m DecisionTreeClassifier(random_state\u001b[38;5;241m=\u001b[39m\u001b[38;5;241m42\u001b[39m)\n\u001b[0;32m----> 2\u001b[0m \u001b[43mdt\u001b[49m\u001b[38;5;241;43m.\u001b[39;49m\u001b[43mfit\u001b[49m\u001b[43m(\u001b[49m\u001b[43mX_train_scaled\u001b[49m\u001b[43m,\u001b[49m\u001b[43m \u001b[49m\u001b[43my_train\u001b[49m\u001b[43m)\u001b[49m\n\u001b[1;32m      4\u001b[0m \u001b[38;5;28mprint\u001b[39m(dt\u001b[38;5;241m.\u001b[39mscore(X_train_scaled, y_train))\n\u001b[1;32m      5\u001b[0m \u001b[38;5;28mprint\u001b[39m(dt\u001b[38;5;241m.\u001b[39mscore(X_test_scaled, y_test))\n",
      "File \u001b[0;32m/opt/anaconda3/envs/ds_study/lib/python3.8/site-packages/sklearn/base.py:1152\u001b[0m, in \u001b[0;36m_fit_context.<locals>.decorator.<locals>.wrapper\u001b[0;34m(estimator, *args, **kwargs)\u001b[0m\n\u001b[1;32m   1145\u001b[0m     estimator\u001b[38;5;241m.\u001b[39m_validate_params()\n\u001b[1;32m   1147\u001b[0m \u001b[38;5;28;01mwith\u001b[39;00m config_context(\n\u001b[1;32m   1148\u001b[0m     skip_parameter_validation\u001b[38;5;241m=\u001b[39m(\n\u001b[1;32m   1149\u001b[0m         prefer_skip_nested_validation \u001b[38;5;129;01mor\u001b[39;00m global_skip_validation\n\u001b[1;32m   1150\u001b[0m     )\n\u001b[1;32m   1151\u001b[0m ):\n\u001b[0;32m-> 1152\u001b[0m     \u001b[38;5;28;01mreturn\u001b[39;00m \u001b[43mfit_method\u001b[49m\u001b[43m(\u001b[49m\u001b[43mestimator\u001b[49m\u001b[43m,\u001b[49m\u001b[43m \u001b[49m\u001b[38;5;241;43m*\u001b[39;49m\u001b[43margs\u001b[49m\u001b[43m,\u001b[49m\u001b[43m \u001b[49m\u001b[38;5;241;43m*\u001b[39;49m\u001b[38;5;241;43m*\u001b[39;49m\u001b[43mkwargs\u001b[49m\u001b[43m)\u001b[49m\n",
      "File \u001b[0;32m/opt/anaconda3/envs/ds_study/lib/python3.8/site-packages/sklearn/tree/_classes.py:959\u001b[0m, in \u001b[0;36mDecisionTreeClassifier.fit\u001b[0;34m(self, X, y, sample_weight, check_input)\u001b[0m\n\u001b[1;32m    928\u001b[0m \u001b[38;5;129m@_fit_context\u001b[39m(prefer_skip_nested_validation\u001b[38;5;241m=\u001b[39m\u001b[38;5;28;01mTrue\u001b[39;00m)\n\u001b[1;32m    929\u001b[0m \u001b[38;5;28;01mdef\u001b[39;00m \u001b[38;5;21mfit\u001b[39m(\u001b[38;5;28mself\u001b[39m, X, y, sample_weight\u001b[38;5;241m=\u001b[39m\u001b[38;5;28;01mNone\u001b[39;00m, check_input\u001b[38;5;241m=\u001b[39m\u001b[38;5;28;01mTrue\u001b[39;00m):\n\u001b[1;32m    930\u001b[0m \u001b[38;5;250m    \u001b[39m\u001b[38;5;124;03m\"\"\"Build a decision tree classifier from the training set (X, y).\u001b[39;00m\n\u001b[1;32m    931\u001b[0m \n\u001b[1;32m    932\u001b[0m \u001b[38;5;124;03m    Parameters\u001b[39;00m\n\u001b[0;32m   (...)\u001b[0m\n\u001b[1;32m    956\u001b[0m \u001b[38;5;124;03m        Fitted estimator.\u001b[39;00m\n\u001b[1;32m    957\u001b[0m \u001b[38;5;124;03m    \"\"\"\u001b[39;00m\n\u001b[0;32m--> 959\u001b[0m     \u001b[38;5;28;43msuper\u001b[39;49m\u001b[43m(\u001b[49m\u001b[43m)\u001b[49m\u001b[38;5;241;43m.\u001b[39;49m\u001b[43m_fit\u001b[49m\u001b[43m(\u001b[49m\n\u001b[1;32m    960\u001b[0m \u001b[43m        \u001b[49m\u001b[43mX\u001b[49m\u001b[43m,\u001b[49m\n\u001b[1;32m    961\u001b[0m \u001b[43m        \u001b[49m\u001b[43my\u001b[49m\u001b[43m,\u001b[49m\n\u001b[1;32m    962\u001b[0m \u001b[43m        \u001b[49m\u001b[43msample_weight\u001b[49m\u001b[38;5;241;43m=\u001b[39;49m\u001b[43msample_weight\u001b[49m\u001b[43m,\u001b[49m\n\u001b[1;32m    963\u001b[0m \u001b[43m        \u001b[49m\u001b[43mcheck_input\u001b[49m\u001b[38;5;241;43m=\u001b[39;49m\u001b[43mcheck_input\u001b[49m\u001b[43m,\u001b[49m\n\u001b[1;32m    964\u001b[0m \u001b[43m    \u001b[49m\u001b[43m)\u001b[49m\n\u001b[1;32m    965\u001b[0m     \u001b[38;5;28;01mreturn\u001b[39;00m \u001b[38;5;28mself\u001b[39m\n",
      "File \u001b[0;32m/opt/anaconda3/envs/ds_study/lib/python3.8/site-packages/sklearn/tree/_classes.py:284\u001b[0m, in \u001b[0;36mBaseDecisionTree._fit\u001b[0;34m(self, X, y, sample_weight, check_input, missing_values_in_feature_mask)\u001b[0m\n\u001b[1;32m    281\u001b[0m \u001b[38;5;28mself\u001b[39m\u001b[38;5;241m.\u001b[39mn_outputs_ \u001b[38;5;241m=\u001b[39m y\u001b[38;5;241m.\u001b[39mshape[\u001b[38;5;241m1\u001b[39m]\n\u001b[1;32m    283\u001b[0m \u001b[38;5;28;01mif\u001b[39;00m is_classification:\n\u001b[0;32m--> 284\u001b[0m     \u001b[43mcheck_classification_targets\u001b[49m\u001b[43m(\u001b[49m\u001b[43my\u001b[49m\u001b[43m)\u001b[49m\n\u001b[1;32m    285\u001b[0m     y \u001b[38;5;241m=\u001b[39m np\u001b[38;5;241m.\u001b[39mcopy(y)\n\u001b[1;32m    287\u001b[0m     \u001b[38;5;28mself\u001b[39m\u001b[38;5;241m.\u001b[39mclasses_ \u001b[38;5;241m=\u001b[39m []\n",
      "File \u001b[0;32m/opt/anaconda3/envs/ds_study/lib/python3.8/site-packages/sklearn/utils/multiclass.py:216\u001b[0m, in \u001b[0;36mcheck_classification_targets\u001b[0;34m(y)\u001b[0m\n\u001b[1;32m    208\u001b[0m y_type \u001b[38;5;241m=\u001b[39m type_of_target(y, input_name\u001b[38;5;241m=\u001b[39m\u001b[38;5;124m\"\u001b[39m\u001b[38;5;124my\u001b[39m\u001b[38;5;124m\"\u001b[39m)\n\u001b[1;32m    209\u001b[0m \u001b[38;5;28;01mif\u001b[39;00m y_type \u001b[38;5;129;01mnot\u001b[39;00m \u001b[38;5;129;01min\u001b[39;00m [\n\u001b[1;32m    210\u001b[0m     \u001b[38;5;124m\"\u001b[39m\u001b[38;5;124mbinary\u001b[39m\u001b[38;5;124m\"\u001b[39m,\n\u001b[1;32m    211\u001b[0m     \u001b[38;5;124m\"\u001b[39m\u001b[38;5;124mmulticlass\u001b[39m\u001b[38;5;124m\"\u001b[39m,\n\u001b[0;32m   (...)\u001b[0m\n\u001b[1;32m    214\u001b[0m     \u001b[38;5;124m\"\u001b[39m\u001b[38;5;124mmultilabel-sequences\u001b[39m\u001b[38;5;124m\"\u001b[39m,\n\u001b[1;32m    215\u001b[0m ]:\n\u001b[0;32m--> 216\u001b[0m     \u001b[38;5;28;01mraise\u001b[39;00m \u001b[38;5;167;01mValueError\u001b[39;00m(\n\u001b[1;32m    217\u001b[0m         \u001b[38;5;124mf\u001b[39m\u001b[38;5;124m\"\u001b[39m\u001b[38;5;124mUnknown label type: \u001b[39m\u001b[38;5;132;01m{\u001b[39;00my_type\u001b[38;5;132;01m}\u001b[39;00m\u001b[38;5;124m. Maybe you are trying to fit a \u001b[39m\u001b[38;5;124m\"\u001b[39m\n\u001b[1;32m    218\u001b[0m         \u001b[38;5;124m\"\u001b[39m\u001b[38;5;124mclassifier, which expects discrete classes on a \u001b[39m\u001b[38;5;124m\"\u001b[39m\n\u001b[1;32m    219\u001b[0m         \u001b[38;5;124m\"\u001b[39m\u001b[38;5;124mregression target with continuous values.\u001b[39m\u001b[38;5;124m\"\u001b[39m\n\u001b[1;32m    220\u001b[0m     )\n",
      "\u001b[0;31mValueError\u001b[0m: Unknown label type: continuous. Maybe you are trying to fit a classifier, which expects discrete classes on a regression target with continuous values."
     ]
    }
   ],
   "source": [
    "dt = DecisionTreeClassifier(random_state=42)\n",
    "dt.fit(X_train_scaled, y_train)\n",
    "\n",
    "print(dt.score(X_train_scaled, y_train))\n",
    "print(dt.score(X_test_scaled, y_test))"
   ]
  },
  {
   "cell_type": "code",
   "execution_count": null,
   "metadata": {},
   "outputs": [],
   "source": []
  },
  {
   "cell_type": "code",
   "execution_count": null,
   "metadata": {},
   "outputs": [],
   "source": []
  }
 ],
 "metadata": {
  "kernelspec": {
   "display_name": "ds_study",
   "language": "python",
   "name": "python3"
  },
  "language_info": {
   "codemirror_mode": {
    "name": "ipython",
    "version": 3
   },
   "file_extension": ".py",
   "mimetype": "text/x-python",
   "name": "python",
   "nbconvert_exporter": "python",
   "pygments_lexer": "ipython3",
   "version": "3.8.19"
  }
 },
 "nbformat": 4,
 "nbformat_minor": 2
}
