{
 "cells": [
  {
   "cell_type": "code",
   "execution_count": null,
   "metadata": {},
   "outputs": [],
   "source": []
  },
  {
   "cell_type": "code",
   "execution_count": 9,
   "metadata": {},
   "outputs": [],
   "source": [
    "def is_palindrome(word: str) -> bool:\n",
    "    left: int = 0\n",
    "    right: int = len(word)-1\n",
    "    while left < right:\n",
    "        if word[left] != word[right]:\n",
    "            return False\n",
    "        left, right = left + 1, right - 1\n",
    "    return True\n",
    "\n"
   ]
  },
  {
   "cell_type": "code",
   "execution_count": 10,
   "metadata": {},
   "outputs": [
    {
     "name": "stdout",
     "output_type": "stream",
     "text": [
      "Is 'racecar' palindrome?  True\n",
      "Is 'rotor' palindrome?  True\n",
      "Is 'tomato' palindrome?  False\n",
      "Is '별똥별' palindrome?  True\n",
      "Is '코끼리' palindrome?  False\n"
     ]
    }
   ],
   "source": [
    "\n",
    "words = [\"racecar\", \"rotor\", \"tomato\", \"별똥별\", \"코끼리\"]\n",
    "for word in words:\n",
    "    print(f\"Is '{word}' palindrome?  {is_palindrome(word)}\")"
   ]
  },
  {
   "cell_type": "code",
   "execution_count": 16,
   "metadata": {},
   "outputs": [],
   "source": [
    "class Node:\n",
    "    def __init__(self, data):\n",
    "        self.data = data\n",
    "        self.next = None\n",
    "\n",
    "class LinkedList:\n",
    "    def __init__(self):\n",
    "        self.head = None\n",
    "        self.length = 0\n",
    "        \n",
    "    def __len__(self):\n",
    "        return self.length\n",
    "    \n",
    "    def appendleft(self, data):\n",
    "        if self.head is None:\n",
    "            self.head = Node(data)\n",
    "        else:\n",
    "            node = Node(data)\n",
    "            node.next = self.head\n",
    "            self.head = node\n",
    "        self.length += 1\n",
    "\n",
    "    def append(self, data):\n",
    "        if self.head is None:\n",
    "            self.head = Node(data)\n",
    "        else:\n",
    "            node = self.head\n",
    "            while node.next is not None:\n",
    "                node = node.next\n",
    "            node.next = Node(data)\n",
    "        self.length += 1\n",
    "\n",
    "    def __str__(self):\n",
    "        if self.head is None:\n",
    "            return \"Linked list is empty!\"\n",
    "        res = \"Head\"\n",
    "        node = self.head\n",
    "        while node is not None:\n",
    "            res += \" → \" + str(node.data)\n",
    "            node = node.next\n",
    "        return res"
   ]
  },
  {
   "cell_type": "code",
   "execution_count": 17,
   "metadata": {},
   "outputs": [
    {
     "name": "stdout",
     "output_type": "stream",
     "text": [
      "연결 리스트 생성.  연결 리스트의 길이 = 0\n",
      "Linked list is empty!\n",
      "\n",
      "0을(를) 추가.  연결 리스트의 길이 = 1\n",
      "Head → 0\n",
      "\n",
      "1을(를) 추가.  연결 리스트의 길이 = 2\n",
      "Head → 0 → 1\n",
      "\n",
      "2을(를) 추가.  연결 리스트의 길이 = 3\n",
      "Head → 2 → 0 → 1\n",
      "\n",
      "3을(를) 추가.  연결 리스트의 길이 = 4\n",
      "Head → 2 → 0 → 1 → 3\n",
      "\n"
     ]
    }
   ],
   "source": [
    "if __name__ == \"__main__\":\n",
    "    my_list = LinkedList()\n",
    "    print(f\"연결 리스트 생성.  연결 리스트의 길이 = {len(my_list)}\")\n",
    "    print(my_list)\n",
    "    print()\n",
    "    for i in range(4):\n",
    "        if i % 2:\n",
    "            my_list.append(i)\n",
    "        else:\n",
    "            my_list.appendleft(i)\n",
    "        print(f\"{i}을(를) 추가.  연결 리스트의 길이 = {len(my_list)}\")\n",
    "        print(my_list)\n",
    "        print()"
   ]
  },
  {
   "cell_type": "code",
   "execution_count": 19,
   "metadata": {},
   "outputs": [
    {
     "name": "stdout",
     "output_type": "stream",
     "text": [
      "2\n",
      "29\n"
     ]
    }
   ],
   "source": [
    "a = int(input())\n",
    "b = int(input())\n",
    "c = int(input())\n",
    "print(a + b - c)\n",
    "print(int(f'{a}{b}') - c)"
   ]
  },
  {
   "cell_type": "code",
   "execution_count": 7,
   "metadata": {},
   "outputs": [],
   "source": [
    "n, m = map(int, input().split())\n",
    "chessPlate = []\n",
    "for i in range(n):\n",
    "    row = input()\n",
    "    chessPlate.append(row)"
   ]
  },
  {
   "cell_type": "code",
   "execution_count": 11,
   "metadata": {},
   "outputs": [
    {
     "name": "stdout",
     "output_type": "stream",
     "text": [
      "35\n"
     ]
    }
   ],
   "source": [
    "\n",
    "result = []\n",
    "for j in range(len(chessPlate)):\n",
    "    if chessPlate[j].count('W') == 4 and chessPlate[j].count('B') == 4:\n",
    "        res = 0\n",
    "        result.append(res)\n",
    "    elif chessPlate[j].count('B') > 4 and chessPlate[j].count('W') < 4:\n",
    "        res = 4 - chessPlate[j].count('W')\n",
    "        result.append(res)\n",
    "    elif chessPlate[j].count('W') > 4 and chessPlate[j].count('B') < 4:\n",
    "        res = 4 - chessPlate[j].count('B')\n",
    "        result.append(res)\n",
    "    elif chessPlate[j].count('W') == chessPlate[j].count('B'):\n",
    "        res = 0\n",
    "        result.append(res)\n",
    "    else:\n",
    "        res = abs(chessPlate[j].count('W') - chessPlate[j].count('B'))-1\n",
    "        result.append(res)\n",
    "print(sum(result))\n",
    "    \n",
    "\n"
   ]
  },
  {
   "cell_type": "code",
   "execution_count": 3,
   "metadata": {},
   "outputs": [
    {
     "name": "stdout",
     "output_type": "stream",
     "text": [
      "['BBBBBBBBWBWBW', 'BBBBBBBBBWBWB', 'BBBBBBBBWBWBW', 'BBBBBBBBBWBWB', 'BBBBBBBBWBWBW', 'BBBBBBBBBWBWB', 'BBBBBBBBWBWBW', 'BBBBBBBBBWBWB', 'WWWWWWWWWWBWB', 'WWWWWWWWWWBWB']\n"
     ]
    }
   ],
   "source": [
    "print(chessPlate)"
   ]
  },
  {
   "cell_type": "code",
   "execution_count": 4,
   "metadata": {},
   "outputs": [
    {
     "name": "stdout",
     "output_type": "stream",
     "text": [
      "2\n",
      "11\n"
     ]
    }
   ],
   "source": [
    "print(chessPlate[3].count('W'))\n",
    "print(chessPlate[3].count('B'))"
   ]
  },
  {
   "cell_type": "code",
   "execution_count": 27,
   "metadata": {},
   "outputs": [],
   "source": [
    "# n번째로 작은 종말의 수?\n",
    "n = int(input())"
   ]
  },
  {
   "cell_type": "code",
   "execution_count": 14,
   "metadata": {},
   "outputs": [
    {
     "data": {
      "text/plain": [
       "3"
      ]
     },
     "execution_count": 14,
     "metadata": {},
     "output_type": "execute_result"
    }
   ],
   "source": [
    "num=666\n",
    "cnt=0\n",
    "#N번째 영화의 제목은 세상의 종말 (N번째로 작은 종말의 숫자) 와 같다.\n",
    "#즉, 1번째 영화의 제목은 666 | 2번째 영화의 제목은 1666\n",
    "\n",
    "while True:\n",
    "    if '666' in str(num): #666이 포함되면 cnt증가\n",
    "        cnt+=1\n",
    "    if cnt==n: #n번째 영화제목==n번째 종말숫자\n",
    "        print(num) #num출력\n",
    "        break\n",
    "    num+=1"
   ]
  },
  {
   "cell_type": "code",
   "execution_count": 39,
   "metadata": {},
   "outputs": [],
   "source": [
    "# 세준의 과목 갯수 n\n",
    "n = int(input())\n",
    "# 과목별 점수\n",
    "scores = [*map(int, input().split())]"
   ]
  },
  {
   "cell_type": "code",
   "execution_count": 40,
   "metadata": {},
   "outputs": [
    {
     "data": {
      "text/plain": [
       "[40, 80, 60]"
      ]
     },
     "execution_count": 40,
     "metadata": {},
     "output_type": "execute_result"
    }
   ],
   "source": [
    "scores"
   ]
  },
  {
   "cell_type": "code",
   "execution_count": null,
   "metadata": {},
   "outputs": [],
   "source": []
  }
 ],
 "metadata": {
  "kernelspec": {
   "display_name": "ds_study",
   "language": "python",
   "name": "python3"
  },
  "language_info": {
   "codemirror_mode": {
    "name": "ipython",
    "version": 3
   },
   "file_extension": ".py",
   "mimetype": "text/x-python",
   "name": "python",
   "nbconvert_exporter": "python",
   "pygments_lexer": "ipython3",
   "version": "3.8.-1"
  }
 },
 "nbformat": 4,
 "nbformat_minor": 2
}
