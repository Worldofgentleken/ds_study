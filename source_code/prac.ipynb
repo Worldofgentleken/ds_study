{
 "cells": [
  {
   "cell_type": "code",
   "execution_count": null,
   "metadata": {},
   "outputs": [],
   "source": []
  },
  {
   "cell_type": "code",
   "execution_count": 9,
   "metadata": {},
   "outputs": [],
   "source": [
    "def is_palindrome(word: str) -> bool:\n",
    "    left: int = 0\n",
    "    right: int = len(word)-1\n",
    "    while left < right:\n",
    "        if word[left] != word[right]:\n",
    "            return False\n",
    "        left, right = left + 1, right - 1\n",
    "    return True\n",
    "\n"
   ]
  },
  {
   "cell_type": "code",
   "execution_count": 10,
   "metadata": {},
   "outputs": [
    {
     "name": "stdout",
     "output_type": "stream",
     "text": [
      "Is 'racecar' palindrome?  True\n",
      "Is 'rotor' palindrome?  True\n",
      "Is 'tomato' palindrome?  False\n",
      "Is '별똥별' palindrome?  True\n",
      "Is '코끼리' palindrome?  False\n"
     ]
    }
   ],
   "source": [
    "\n",
    "words = [\"racecar\", \"rotor\", \"tomato\", \"별똥별\", \"코끼리\"]\n",
    "for word in words:\n",
    "    print(f\"Is '{word}' palindrome?  {is_palindrome(word)}\")"
   ]
  },
  {
   "cell_type": "code",
   "execution_count": 16,
   "metadata": {},
   "outputs": [],
   "source": [
    "class Node:\n",
    "    def __init__(self, data):\n",
    "        self.data = data\n",
    "        self.next = None\n",
    "\n",
    "class LinkedList:\n",
    "    def __init__(self):\n",
    "        self.head = None\n",
    "        self.length = 0\n",
    "        \n",
    "    def __len__(self):\n",
    "        return self.length\n",
    "    \n",
    "    def appendleft(self, data):\n",
    "        if self.head is None:\n",
    "            self.head = Node(data)\n",
    "        else:\n",
    "            node = Node(data)\n",
    "            node.next = self.head\n",
    "            self.head = node\n",
    "        self.length += 1\n",
    "\n",
    "    def append(self, data):\n",
    "        if self.head is None:\n",
    "            self.head = Node(data)\n",
    "        else:\n",
    "            node = self.head\n",
    "            while node.next is not None:\n",
    "                node = node.next\n",
    "            node.next = Node(data)\n",
    "        self.length += 1\n",
    "\n",
    "    def __str__(self):\n",
    "        if self.head is None:\n",
    "            return \"Linked list is empty!\"\n",
    "        res = \"Head\"\n",
    "        node = self.head\n",
    "        while node is not None:\n",
    "            res += \" → \" + str(node.data)\n",
    "            node = node.next\n",
    "        return res"
   ]
  },
  {
   "cell_type": "code",
   "execution_count": 17,
   "metadata": {},
   "outputs": [
    {
     "name": "stdout",
     "output_type": "stream",
     "text": [
      "연결 리스트 생성.  연결 리스트의 길이 = 0\n",
      "Linked list is empty!\n",
      "\n",
      "0을(를) 추가.  연결 리스트의 길이 = 1\n",
      "Head → 0\n",
      "\n",
      "1을(를) 추가.  연결 리스트의 길이 = 2\n",
      "Head → 0 → 1\n",
      "\n",
      "2을(를) 추가.  연결 리스트의 길이 = 3\n",
      "Head → 2 → 0 → 1\n",
      "\n",
      "3을(를) 추가.  연결 리스트의 길이 = 4\n",
      "Head → 2 → 0 → 1 → 3\n",
      "\n"
     ]
    }
   ],
   "source": [
    "if __name__ == \"__main__\":\n",
    "    my_list = LinkedList()\n",
    "    print(f\"연결 리스트 생성.  연결 리스트의 길이 = {len(my_list)}\")\n",
    "    print(my_list)\n",
    "    print()\n",
    "    for i in range(4):\n",
    "        if i % 2:\n",
    "            my_list.append(i)\n",
    "        else:\n",
    "            my_list.appendleft(i)\n",
    "        print(f\"{i}을(를) 추가.  연결 리스트의 길이 = {len(my_list)}\")\n",
    "        print(my_list)\n",
    "        print()"
   ]
  },
  {
   "cell_type": "code",
   "execution_count": null,
   "metadata": {},
   "outputs": [],
   "source": []
  }
 ],
 "metadata": {
  "kernelspec": {
   "display_name": "ds_study",
   "language": "python",
   "name": "python3"
  },
  "language_info": {
   "codemirror_mode": {
    "name": "ipython",
    "version": 3
   },
   "file_extension": ".py",
   "mimetype": "text/x-python",
   "name": "python",
   "nbconvert_exporter": "python",
   "pygments_lexer": "ipython3",
   "version": "3.8.19"
  }
 },
 "nbformat": 4,
 "nbformat_minor": 2
}
